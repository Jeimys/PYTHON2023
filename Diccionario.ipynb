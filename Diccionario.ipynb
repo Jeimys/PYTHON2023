{
 "cells": [
  {
   "cell_type": "markdown",
   "id": "cc00a16c",
   "metadata": {},
   "source": [
    "### Diccionarios"
   ]
  },
  {
   "cell_type": "markdown",
   "id": "2961eb66",
   "metadata": {},
   "source": [
    "##### 1) Crea una función que genere un nuevo diccionario basado en una lista de strings, en el cual la llave de cada ítem sea la palabra del string y su valor la longitud de la palabra. "
   ]
  },
  {
   "cell_type": "code",
   "execution_count": 15,
   "id": "e3d2aaae",
   "metadata": {},
   "outputs": [
    {
     "name": "stdout",
     "output_type": "stream",
     "text": [
      "{'hola': 4, 'como': 4, 'estas': 5}\n"
     ]
    }
   ],
   "source": [
    "lista = ['hola', 'como', 'estas']\n",
    "\n",
    "def words(Palabras):\n",
    "    return {word:len(word) for word in Palabras}\n",
    "\n",
    "x = words(lista)\n",
    "print(x)\n"
   ]
  },
  {
   "cell_type": "markdown",
   "id": "fc823e85",
   "metadata": {},
   "source": [
    "###### Ahora con ciclos "
   ]
  },
  {
   "cell_type": "code",
   "execution_count": 16,
   "id": "49991674",
   "metadata": {},
   "outputs": [
    {
     "name": "stdout",
     "output_type": "stream",
     "text": [
      "{'hola': 4, 'como': 4, 'estas': 5}\n"
     ]
    }
   ],
   "source": [
    "lista = ['hola', 'como', 'estas']\n",
    "\n",
    "def words(Palabras):\n",
    "    dic = {}\n",
    "    for i in Palabras:\n",
    "        dic[i] = len(i)\n",
    "    return dic\n",
    "\n",
    "x = words(lista)\n",
    "print(x)\n"
   ]
  },
  {
   "cell_type": "code",
   "execution_count": 73,
   "id": "1e1e9185",
   "metadata": {},
   "outputs": [
    {
     "name": "stdout",
     "output_type": "stream",
     "text": [
      "{'banana': 2, 'pera': 1}\n"
     ]
    }
   ],
   "source": [
    "lst = ['banana', 'banana', 'pera']\n",
    "\n",
    "def words(lst):\n",
    "    dic = {}\n",
    "    for i in lst:\n",
    "        if i not in dic:\n",
    "            dic[i] = lst.count(i)\n",
    "    return dic\n",
    "\n",
    "x = words(lst)\n",
    "print(x)"
   ]
  },
  {
   "cell_type": "code",
   "execution_count": 53,
   "id": "0ec5e258",
   "metadata": {},
   "outputs": [
    {
     "name": "stdout",
     "output_type": "stream",
     "text": [
      "2\n"
     ]
    }
   ],
   "source": [
    "## No srivió \n",
    "\n",
    "lst = {'banana': 3, 'banana': 4, 'pera': 2}\n",
    "\n",
    "def words(lst):\n",
    "    valores = list(lst.values())\n",
    "    cuenta = 0\n",
    "    for i in valores:\n",
    "        if valores.count(i) == 1:\n",
    "            cuenta += 1\n",
    "    return cuenta\n",
    "\n",
    "x = words(lst)\n",
    "print(x)"
   ]
  },
  {
   "cell_type": "code",
   "execution_count": 64,
   "id": "087c87f8",
   "metadata": {},
   "outputs": [
    {
     "name": "stdout",
     "output_type": "stream",
     "text": [
      "{'hola': 1, 'como': 2, 'estas': 3}\n"
     ]
    }
   ],
   "source": [
    "lista1 = ['hola', 'como', 'estas']\n",
    "lista2 = [1, 2, 3]\n",
    "\n",
    "def words(lista1, lista2):\n",
    "    dic = {llave:valor for llave, valor in zip(lista1, lista2)} \n",
    "    return dic\n",
    "\n",
    "x = words(lista1, lista2)\n",
    "print(x)"
   ]
  },
  {
   "cell_type": "code",
   "execution_count": 93,
   "id": "c6ea9a5e",
   "metadata": {},
   "outputs": [
    {
     "name": "stdout",
     "output_type": "stream",
     "text": [
      "{'hola': 1, 'como': 2, 'estas': 3}\n"
     ]
    }
   ],
   "source": [
    "lista1 = ['hola', 'como', 'estas']\n",
    "lista2 = [1, 2, 3]\n",
    "\n",
    "def words(lista1, lista2):\n",
    "    dic = {}\n",
    "    for key, value in zip(lista1,lista2):\n",
    "        dic[key]=value \n",
    "    return dic\n",
    "\n",
    "x = words(lista1, lista2)\n",
    "print(x)"
   ]
  }
 ],
 "metadata": {
  "kernelspec": {
   "display_name": "Python 3 (ipykernel)",
   "language": "python",
   "name": "python3"
  },
  "language_info": {
   "codemirror_mode": {
    "name": "ipython",
    "version": 3
   },
   "file_extension": ".py",
   "mimetype": "text/x-python",
   "name": "python",
   "nbconvert_exporter": "python",
   "pygments_lexer": "ipython3",
   "version": "3.9.7"
  }
 },
 "nbformat": 4,
 "nbformat_minor": 5
}
