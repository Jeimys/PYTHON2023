{
 "cells": [
  {
   "cell_type": "markdown",
   "id": "49f93bc6",
   "metadata": {},
   "source": [
    "### Funciones"
   ]
  },
  {
   "cell_type": "code",
   "execution_count": 1,
   "id": "5213d055",
   "metadata": {},
   "outputs": [
    {
     "name": "stdout",
     "output_type": "stream",
     "text": [
      "Hola :)\n"
     ]
    }
   ],
   "source": [
    "def say_hello():\n",
    "    print('Hola :)')\n",
    "    \n",
    "say_hello()"
   ]
  },
  {
   "cell_type": "code",
   "execution_count": 4,
   "id": "306b3f95",
   "metadata": {},
   "outputs": [
    {
     "name": "stdout",
     "output_type": "stream",
     "text": [
      "Hola :) Jey\n"
     ]
    }
   ],
   "source": [
    "def say_hello(name):\n",
    "    print('Hola :) ' + name)\n",
    "    \n",
    "say_hello('Jey')"
   ]
  },
  {
   "cell_type": "code",
   "execution_count": 6,
   "id": "32d6fb4a",
   "metadata": {},
   "outputs": [
    {
     "name": "stdout",
     "output_type": "stream",
     "text": [
      "B\n",
      "a\n",
      "t\n",
      "m\n",
      "a\n",
      "n\n"
     ]
    }
   ],
   "source": [
    "word = 'Batman'\n",
    "for letter in word:\n",
    "    print(letter)"
   ]
  },
  {
   "cell_type": "code",
   "execution_count": 13,
   "id": "74f33631",
   "metadata": {},
   "outputs": [
    {
     "name": "stdout",
     "output_type": "stream",
     "text": [
      "True\n"
     ]
    }
   ],
   "source": [
    "def funcion (oracion, nombre):\n",
    "    return nombre in oracion\n",
    "    \n",
    "oracion = 'Andrés llega tarde'\n",
    "nombre = 'Andrés'\n",
    "print(funcion(oracion, nombre))\n"
   ]
  },
  {
   "cell_type": "code",
   "execution_count": 30,
   "id": "699bdbe5",
   "metadata": {},
   "outputs": [
    {
     "name": "stdout",
     "output_type": "stream",
     "text": [
      "crml\n",
      "crmldle\n"
     ]
    }
   ],
   "source": [
    "def funcion(word):\n",
    "    new_word = ''\n",
    "    \n",
    "    for i in range(0, len(word), 2):\n",
    "        new_word += word[i] \n",
    "    return new_word\n",
    "\n",
    "my_word = 'caramelo'\n",
    "print(funcion(my_word))\n",
    "\n",
    "def funcion_2(sentence):\n",
    "    new_word = sentence.replace(' ', '')\n",
    "    return funcion(new_word)\n",
    "\n",
    "my_sentence = 'caramelo dulce'\n",
    "print(funcion_2(my_sentence))"
   ]
  },
  {
   "cell_type": "code",
   "execution_count": 45,
   "id": "5de8f6e8",
   "metadata": {},
   "outputs": [
    {
     "name": "stdout",
     "output_type": "stream",
     "text": [
      "ogaleicrum\n"
     ]
    }
   ],
   "source": [
    "def invertir(word):\n",
    "    return word[::-1]  # Los dos puntos significa invertir las filas y las columnas\n",
    "\n",
    "word = 'murcielago'\n",
    "print(invertir(word))"
   ]
  },
  {
   "cell_type": "code",
   "execution_count": 70,
   "id": "464ac15f",
   "metadata": {},
   "outputs": [
    {
     "name": "stdout",
     "output_type": "stream",
     "text": [
      "False\n"
     ]
    }
   ],
   "source": [
    "def funcion_2(sentence):\n",
    "    new_word = sentence.replace(' ', '')\n",
    "    return new_word\n",
    "\n",
    "\n",
    "def invertir(frase):\n",
    "    new_word_2 = frase[::-1]\n",
    "    return new_word_2 in frase\n",
    "\n",
    "x = funcion_2(sentence)\n",
    "y = invertir(x)\n",
    "sentence = 'isaac no ronca asi'\n",
    "\n",
    "print(y)\n",
    " \n",
    "\n"
   ]
  },
  {
   "cell_type": "code",
   "execution_count": null,
   "id": "46f1ab22",
   "metadata": {},
   "outputs": [],
   "source": []
  },
  {
   "cell_type": "code",
   "execution_count": null,
   "id": "27cdb1c1",
   "metadata": {},
   "outputs": [],
   "source": []
  }
 ],
 "metadata": {
  "kernelspec": {
   "display_name": "Python 3 (ipykernel)",
   "language": "python",
   "name": "python3"
  },
  "language_info": {
   "codemirror_mode": {
    "name": "ipython",
    "version": 3
   },
   "file_extension": ".py",
   "mimetype": "text/x-python",
   "name": "python",
   "nbconvert_exporter": "python",
   "pygments_lexer": "ipython3",
   "version": "3.9.7"
  }
 },
 "nbformat": 4,
 "nbformat_minor": 5
}
