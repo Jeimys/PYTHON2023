{
 "cells": [
  {
   "cell_type": "markdown",
   "id": "186039a5",
   "metadata": {
    "id": "186039a5"
   },
   "source": [
    "# Michelangelo's\n",
    "\n",
    "Su amigo Chocolove McDonell le comenta que inauguró un nuevo restaurante llamado _Michelangelo's_, el cual se especializa en comida italiana. Como dueño del negocio, Chocolove quiere evaluar la rentabilidad de su negocio, pero no es muy bueno sacando cuentas, razón por la que acude a usted por ayuda. \n",
    "\n",
    "El menú del restaurante es el siguiente:\n",
    "> - Carpaccio... `$ 31.500`\n",
    "> - Polenta... `$ 31.500`\n",
    "> - Panna Cotta... `$ 32.000` \n",
    "> - Macchiato... `$ 12.500` \n",
    "> - Latte... `$ 18.000`\n",
    "> - Cappuccino... `$ 19.500` \n",
    "> - Espresso... `$ 21.500` \n",
    "> - Lasagna... `$ 29.000` \n",
    "> - Risotto... `$ 35.500` \n",
    "> - Gnocchi... `$ 56.500` \n",
    "> - Ravioli... `$ 63.500` \n",
    "\n",
    "Chocolove lleva anotaciones de las ventas realizadas durante la primera semana en un pequeño cuaderno, indicando la fecha y los platos servidos. Le ha compartido la siguientes imágenes:\n",
    "\n",
    "<img src=\"https://github.com/Mikheltodd/Michelangelos/blob/main/ventas_p1.jpg?raw=1\" style=\"max-height:400px\">\n",
    "<img src=\"https://github.com/Mikheltodd/Michelangelos/blob/main/ventas_p2.jpg?raw=1\" style=\"max-height:400px\">\n",
    "\n",
    "**Tip**: Descarga las imágenes de la carpeta del repositorio para observar el texto con mayor facilidad."
   ]
  },
  {
   "cell_type": "markdown",
   "id": "29ad8ea4",
   "metadata": {
    "id": "29ad8ea4"
   },
   "source": [
    "# Menú"
   ]
  },
  {
   "cell_type": "markdown",
   "id": "2797b589",
   "metadata": {
    "id": "2797b589"
   },
   "source": [
    "Crea una lista llamada `menu` que contenga los elementos del menú de Michelangelo's."
   ]
  },
  {
   "cell_type": "code",
   "execution_count": 6,
   "id": "3cb128e4",
   "metadata": {
    "id": "3cb128e4"
   },
   "outputs": [],
   "source": [
    "menu = ['Carpaccio', 'Polenta', 'Panna Cotta', 'Macchiato', 'Latte', 'Cappuccino', 'Espresso', 'Lasagna', 'Risotto', 'Gnocchi', 'Ravioli']"
   ]
  },
  {
   "cell_type": "markdown",
   "id": "9c242dcf",
   "metadata": {
    "id": "9c242dcf"
   },
   "source": [
    "Crea una lista llamada `prices` que contenga los precios de los elementos del menú de Michelangelo's. El orden de los precios debe corresponder con el orden de los platos en la lista `menu`."
   ]
  },
  {
   "cell_type": "code",
   "execution_count": 7,
   "id": "2c648e26",
   "metadata": {
    "id": "2c648e26"
   },
   "outputs": [],
   "source": [
    "prices = [31500, 31500, 32000, 12500,  18000, 19500, 21500, 29000, 35500, 56500, 63500]"
   ]
  },
  {
   "cell_type": "markdown",
   "id": "db730bc8",
   "metadata": {
    "id": "db730bc8"
   },
   "source": [
    "Crea una variable llamada `avg_prc` que almacene el valor del precio promedio de los productos vendidos en Michelangelo's.\n",
    "\n",
    "**Tip**: utiliza la lista `prices` y ciclos para calcular este valor. "
   ]
  },
  {
   "cell_type": "code",
   "execution_count": 8,
   "id": "8d1e899a",
   "metadata": {
    "colab": {
     "base_uri": "https://localhost:8080/"
    },
    "id": "8d1e899a",
    "outputId": "d09f0f5c-5e7f-46d8-d9cd-b506816040b7"
   },
   "outputs": [
    {
     "name": "stdout",
     "output_type": "stream",
     "text": [
      "31909.09\n"
     ]
    }
   ],
   "source": [
    "avg_prc = 0\n",
    "\n",
    "for i in prices:\n",
    "  avg_prc = avg_prc + i\n",
    "\n",
    "avg_prc = round((avg_prc / len(prices)), 2)\n",
    "print(avg_prc)"
   ]
  },
  {
   "cell_type": "markdown",
   "id": "08393c0c",
   "metadata": {
    "id": "08393c0c"
   },
   "source": [
    "## Ventas"
   ]
  },
  {
   "cell_type": "markdown",
   "id": "97c049c0",
   "metadata": {
    "id": "97c049c0"
   },
   "source": [
    "Crea una lista para cada día de la semana que contenga los productos vendidos por Michelangelo's. Nombra las variables de la siguiente forma:\n",
    "- `monday`: lista con las ventas del lunes, 16 de enero de 2023\n",
    "- `tuesday`: lista con las ventas del martes, 17 de enero de 2023\n",
    "- `wednesday`: lista con las ventas del miércoles, 18 de enero de 2023\n",
    "- `thursday`: lista con las ventas del jueves, 19 de enero de 2023\n",
    "- `friday`: lista con las ventas del viernes, 20 de enero de 2023\n",
    "- `saturday`: lista con las ventas del sábado, 21 de enero de 2023\n",
    "- `sunday`: lista con las ventas del domingo, 22 de enero de 2023"
   ]
  },
  {
   "cell_type": "code",
   "execution_count": 9,
   "id": "f2b38aa6",
   "metadata": {
    "id": "f2b38aa6"
   },
   "outputs": [],
   "source": [
    "monday = ['Lasagna', 'Polenta', 'Gnocchi', 'Polenta', 'Ravioli', 'Gnocchi', 'Cappuccino', 'Risotto']\n",
    "tuesday = ['Risotto', 'Ravioli', 'Risotto', 'Lasagna', 'Carpaccio', 'Espresso', 'Panna Cotta', 'Gnocchi', 'Gnocchi']\n",
    "wednesday = ['Cappuccino', 'Lasagna', 'Cappuccino', 'Carpaccio', 'Ravioli', 'Polenta', 'Polenta', 'Carpaccio', 'Espresso', 'Lasagna', 'Risotto', 'Carpaccio']\n",
    "thursday = ['Latte', 'Risotto', 'Risotto', 'Carpaccio', 'Gnocchi', 'Polenta', 'Espresso', 'Latte', 'Ravioli']\n",
    "friday = ['Espresso', 'Gnocchi', 'Gnocchi', 'Cappuccino', 'Gnocchi', 'Panna Cotta']\n",
    "saturday = ['Risotto', 'Carpaccio', 'Macchiato', 'Cappuccino', 'Risotto', 'Polenta', 'Panna Cotta', 'Ravioli', 'Macchiato', 'Panna Cotta', 'Latte', 'Latte', 'Gnocchi']\n",
    "sunday = ['Polenta', 'Polenta', 'Espresso', 'Ravioli', 'Risotto', 'Macchiato']"
   ]
  },
  {
   "cell_type": "markdown",
   "id": "0727bc22",
   "metadata": {
    "id": "0727bc22"
   },
   "source": [
    "Calcula el valor total de las ventas para cada día de la semana. Almacena el valor de las ventas en las siguientes variables:\n",
    "- `total_monday`: variable con el valor total de las ventas del día lunes\n",
    "- `total_tuesday`: variable con el valor total de las ventas del día lunes\n",
    "- `total_wednesday`: variable con el valor total de las ventas del día lunes\n",
    "- `total_thursday`: variable con el valor total de las ventas del día lunes\n",
    "- `total_friday`: variable con el valor total de las ventas del día lunes\n",
    "- `total_saturday`: variable con el valor total de las ventas del día lunes\n",
    "- `total_sunday`: variable con el valor total de las ventas del día lunes\n",
    "\n",
    "**Tip**: utiliza ciclos y las listas de los días de la semana. También puedes usar el método `.index()` para obtener el índice de un elemento en una lista."
   ]
  },
  {
   "cell_type": "code",
   "execution_count": 10,
   "id": "0d6e0781",
   "metadata": {
    "colab": {
     "base_uri": "https://localhost:8080/"
    },
    "id": "0d6e0781",
    "outputId": "37531285-82b8-4843-e6e5-a84170e72e04"
   },
   "outputs": [
    {
     "name": "stdout",
     "output_type": "stream",
     "text": [
      "323500\n",
      "361500\n",
      "375000\n",
      "311500\n",
      "242500\n",
      "398500\n",
      "196000\n"
     ]
    }
   ],
   "source": [
    "total_monday = 0\n",
    "for i in monday:\n",
    "  total_monday += prices[menu.index(i)]\n",
    "print(total_monday)\n",
    "\n",
    "total_tuesday = 0\n",
    "for j in tuesday:\n",
    "  total_tuesday += prices[menu.index(j)]\n",
    "print(total_tuesday)\n",
    "\n",
    "total_wednesday = 0\n",
    "for i in wednesday:\n",
    "  total_wednesday += prices[menu.index(i)]\n",
    "print(total_wednesday)\n",
    "\n",
    "total_thursday = 0\n",
    "for i in thursday:\n",
    "  total_thursday += prices[menu.index(i)]\n",
    "print(total_thursday)\n",
    "\n",
    "total_friday = 0\n",
    "for i in friday:\n",
    "  total_friday += prices[menu.index(i)]\n",
    "print(total_friday)\n",
    "\n",
    "total_saturday = 0\n",
    "for i in saturday:\n",
    "  total_saturday += prices[menu.index(i)]\n",
    "print(total_saturday)\n",
    "\n",
    "total_sunday = 0\n",
    "for i in sunday:\n",
    "  total_sunday += prices[menu.index(i)]\n",
    "print(total_sunday)"
   ]
  },
  {
   "cell_type": "markdown",
   "id": "3cc13c70",
   "metadata": {
    "id": "3cc13c70"
   },
   "source": [
    "¿Cuál es valor total de las ventas de Michelangelo's durante su primera semana?"
   ]
  },
  {
   "cell_type": "code",
   "execution_count": 11,
   "id": "c8d1500f",
   "metadata": {
    "colab": {
     "base_uri": "https://localhost:8080/"
    },
    "id": "c8d1500f",
    "outputId": "6072e99d-6f89-48b4-c997-cab26b52227d"
   },
   "outputs": [
    {
     "name": "stdout",
     "output_type": "stream",
     "text": [
      "El valor total de ventas de Michelangelos durante su primera semana es: 2208500\n"
     ]
    }
   ],
   "source": [
    "total_ventas = total_monday + total_tuesday + total_wednesday + total_thursday + total_friday + total_saturday + total_sunday\n",
    "print('El valor total de ventas de Michelangelos durante su primera semana es: ' + str(total_ventas))"
   ]
  },
  {
   "cell_type": "code",
   "execution_count": 15,
   "id": "7568312a",
   "metadata": {},
   "outputs": [
    {
     "name": "stdout",
     "output_type": "stream",
     "text": [
      "{'Carpaccio': 31500, 'Polenta': 31500, 'Panna Cotta': 32000, 'Macchiato': 12500, 'Latte': 18000, 'Cappuccino': 19500, 'Espresso': 21500, 'Lasagna': 29000, 'Risotto': 35500, 'Gnocchi': 56500, 'Ravioli': 63500}\n"
     ]
    }
   ],
   "source": [
    "dishes = menu.copy()\n",
    "values = prices.copy()\n",
    "menu = dict(zip(dishes, values))\n",
    "\n",
    "print(menu)\n"
   ]
  },
  {
   "cell_type": "code",
   "execution_count": 31,
   "id": "e5322f9e",
   "metadata": {},
   "outputs": [
    {
     "name": "stdout",
     "output_type": "stream",
     "text": [
      "{'2023/01/16': ['Lasagna', 'Polenta', 'Gnocchi', 'Polenta', 'Ravioli', 'Gnocchi', 'Cappuccino', 'Risotto'], '2023/01/17': ['Risotto', 'Ravioli', 'Risotto', 'Lasagna', 'Carpaccio', 'Espresso', 'Panna Cotta', 'Gnocchi', 'Gnocchi'], '2023/01/18': ['Cappuccino', 'Lasagna', 'Cappuccino', 'Carpaccio', 'Ravioli', 'Polenta', 'Polenta', 'Carpaccio', 'Espresso', 'Lasagna', 'Risotto', 'Carpaccio'], '2023/01/19': ['Latte', 'Risotto', 'Risotto', 'Carpaccio', 'Gnocchi', 'Polenta', 'Espresso', 'Latte', 'Ravioli'], '2023/01/20': ['Espresso', 'Gnocchi', 'Gnocchi', 'Cappuccino', 'Gnocchi', 'Panna Cotta'], '2023/01/21': ['Risotto', 'Carpaccio', 'Macchiato', 'Cappuccino', 'Risotto', 'Polenta', 'Panna Cotta', 'Ravioli', 'Macchiato', 'Panna Cotta', 'Latte', 'Latte', 'Gnocchi'], '2023/01/22': ['Polenta', 'Polenta', 'Espresso', 'Ravioli', 'Risotto', 'Macchiato']}\n"
     ]
    }
   ],
   "source": [
    "fechas = ['2023/01/16', '2023/01/17', '2023/01/18', '2023/01/19', '2023/01/20', '2023/01/21', '2023/01/22']\n",
    "ventas = [monday, tuesday, wednesday, thursday, friday, saturday, sunday]\n",
    "\n",
    "sales = dict(zip(fechas, ventas))\n",
    "\n",
    "print(sales)\n",
    "\n",
    "#\n",
    "#all_sales = sales.items()\n",
    "#for i, j in all_sales:\n",
    "#    print(i, ' : ', j)\n"
   ]
  },
  {
   "cell_type": "code",
   "execution_count": null,
   "id": "53279617",
   "metadata": {},
   "outputs": [],
   "source": [
    "p_vendido = str(input('Ingrese el plato vendido: '))\n",
    "dia = str(input('Ingrese la fecha del día en que se vendió el plato (AAAA/MM/DD): '))\n",
    "\n",
    "def add_sale(p_vendido, dia, sales):\n",
    "    date = list(sales.keys())\n",
    "    menu = list(sales.values())\n",
    "\n",
    "    for i in menu:\n",
    "        if p_vendido not in menu:\n",
    "            print('El plato ingresado no está en el menu')\n",
    "            break\n",
    "        elif dia in date:\n",
    "            menu.append(p_vendido)\n",
    "            sales = dict(zip(date, menu))\n",
    "            print(sales)\n",
    "        else: \n",
    "            date.append(dia)\n",
    "            menu.append(p_vendido)\n",
    "            sales = dict(zip(date, menu))\n",
    "        print(sales)\n"
   ]
  },
  {
   "cell_type": "code",
   "execution_count": null,
   "id": "d6583e2f",
   "metadata": {},
   "outputs": [],
   "source": []
  }
 ],
 "metadata": {
  "colab": {
   "provenance": []
  },
  "kernelspec": {
   "display_name": "Python 3 (ipykernel)",
   "language": "python",
   "name": "python3"
  },
  "language_info": {
   "codemirror_mode": {
    "name": "ipython",
    "version": 3
   },
   "file_extension": ".py",
   "mimetype": "text/x-python",
   "name": "python",
   "nbconvert_exporter": "python",
   "pygments_lexer": "ipython3",
   "version": "3.9.7"
  }
 },
 "nbformat": 4,
 "nbformat_minor": 5
}
