{
 "cells": [
  {
   "cell_type": "markdown",
   "id": "62f3f54d",
   "metadata": {},
   "source": [
    "##### 1) Determine cuál de dos listas de números definidas por el usuario tiene la suma más grande."
   ]
  },
  {
   "cell_type": "code",
   "execution_count": 3,
   "id": "711d0ae6",
   "metadata": {},
   "outputs": [
    {
     "name": "stdout",
     "output_type": "stream",
     "text": [
      "Lista A: [4, 6, 9, 5, 3, 7]\n",
      "Lista B: [3, 6, 8, 12, 89, 23]\n",
      "Suma de la lista A: 34\n",
      "Suma de la lista B: 141\n",
      "La suma más grande la tiene la lista B\n"
     ]
    }
   ],
   "source": [
    "A = [4, 6, 9, 5, 3, 7]\n",
    "B = [3, 6, 8, 12, 89, 23]\n",
    "\n",
    "print('Lista A: ' + str(A))\n",
    "print('Lista B: ' + str(B))\n",
    "\n",
    "sum_A = 0\n",
    "sum_B = 0\n",
    "\n",
    "for i in A:\n",
    "    sum_A = sum_A + i\n",
    "\n",
    "print('Suma de la lista A: ' + str(sum_A))\n",
    "\n",
    "for t in B:\n",
    "    sum_B = sum_B + t \n",
    "\n",
    "print('Suma de la lista B: ' + str(sum_B))    \n",
    "\n",
    "if sum_A > sum_B:\n",
    "    print('La suma más grande la tiene la lista A')\n",
    "elif sum_B > sum_A:\n",
    "    print('La suma más grande la tiene la lista B')\n",
    "else:\n",
    "    print('La suma de la matriz A es igual a la suma de la matriz B')"
   ]
  },
  {
   "cell_type": "code",
   "execution_count": 11,
   "id": "5bbb89ba",
   "metadata": {},
   "outputs": [
    {
     "name": "stdout",
     "output_type": "stream",
     "text": [
      "¿Cuántos elementos tiene la lista A?: 3\n",
      "Ingrese el valor1 de la lista A: 23\n",
      "Ingrese el valor2 de la lista A: 43\n",
      "Ingrese el valor3 de la lista A: 23\n",
      "\n",
      "¿Cuántos elementos tiene la lista B?: 2\n",
      "Ingrese el valor1 de la lista B:  34\n",
      "Ingrese el valor2 de la lista B:  54\n",
      "\n",
      "Lista A: [23, 43, 23]\n",
      "Lista B: [23, 43, 23]\n",
      "\n",
      "Suma de la lista A: 89\n",
      "Suma de la lista B: 88\n",
      "\n",
      "La suma más grande la tiene la lista A\n"
     ]
    }
   ],
   "source": [
    "n_A = int(input('¿Cuántos elementos tiene la lista A?: '))\n",
    "\n",
    "A = []\n",
    "\n",
    "for i in range(n_A):\n",
    "    A.append(int(input('Ingrese el valor ' + str(i + 1) + ' de la lista A: ')))\n",
    "\n",
    "n_B = int(input('\\n¿Cuántos elementos tiene la lista B?: '))\n",
    "\n",
    "B = []\n",
    "\n",
    "for t in range(n_B):\n",
    "    B.append(int(input('Ingrese el valor ' + str(t + 1) + ' de la lista B:  ')))\n",
    "    \n",
    "print('\\nLista A: ' + str(A))\n",
    "print('Lista B: ' + str(A) + '\\n')\n",
    "\n",
    "sum_A = 0\n",
    "sum_B = 0\n",
    "\n",
    "for i in A:\n",
    "    sum_A = sum_A + i\n",
    "\n",
    "print('Suma de la lista A: ' + str(sum_A))\n",
    "\n",
    "for t in B:\n",
    "    sum_B = sum_B + t \n",
    "\n",
    "print('Suma de la lista B: ' + str(sum_B) + '\\n')    \n",
    "\n",
    "if sum_A > sum_B:\n",
    "    print('La suma más grande la tiene la lista A')\n",
    "elif sum_B > sum_A:\n",
    "    print('La suma más grande la tiene la lista B')\n",
    "else:\n",
    "    print('La suma de la matriz A es igual a la suma de la matriz B')"
   ]
  },
  {
   "cell_type": "markdown",
   "id": "422c7114",
   "metadata": {},
   "source": [
    "##### 2) Determine cuántos números de una lista debe contar hasta sumar en orden un valor ingresado por el usuario."
   ]
  },
  {
   "cell_type": "code",
   "execution_count": null,
   "id": "bb873ba8",
   "metadata": {},
   "outputs": [],
   "source": []
  },
  {
   "cell_type": "markdown",
   "id": "aade58d5",
   "metadata": {},
   "source": [
    "#### 3) Determine la lista que contiene el dato con mayor valor a partir de dos listas ingresadas por el usuario."
   ]
  },
  {
   "cell_type": "code",
   "execution_count": null,
   "id": "0489dc36",
   "metadata": {},
   "outputs": [],
   "source": [
    "n_A = int(input(\"¿Cuántos datos hay en la lista A?: \"))\n",
    "\n",
    "A = []\n",
    "\n",
    "for i in range(n_A):\n",
    "    A.append(int(input(\"Ingrese el valor \" + str(i + 1) + \" de la lista A: \")))\n",
    "    \n",
    "print(\"\\nLista A: \" + str(A) + \"\\n\")\n",
    "\n",
    "n_B = int(input(\"¿Cuántos datos hay en la lista B?: \"))\n",
    "\n",
    "B = []\n",
    "\n",
    "for i in range(n_B):\n",
    "    B.append(int(input(\"Ingrese el valor \" + str(i + 1) + \" de la lista B: \")))\n",
    "    \n",
    "print(\"\\nLista B: \" + str(B) + \"\\n\")\n",
    "\n",
    "max_A = 0\n",
    "max_B = 0\n",
    "\n",
    "for a in A:\n",
    "    if a > max_A:\n",
    "        max_A = a\n",
    "        \n",
    "for b in B:\n",
    "    if b > max_B:\n",
    "        max_B = b\n",
    "        \n",
    "if max_A > max_B:\n",
    "    print(\"La lista con el número mayor es la lista A\")\n",
    "elif max_B > max_A:\n",
    "    print(\"La lista con el número mayor es la lista B\")\n",
    "else:\n",
    "    print(\"El número mayor de la lista A es igual al número mayor de la lista B\")"
   ]
  },
  {
   "cell_type": "markdown",
   "id": "ac8ee1cc",
   "metadata": {},
   "source": [
    "#### 4) Determine la posición de los datos de dos listas en las cuales su valor coincida."
   ]
  },
  {
   "cell_type": "code",
   "execution_count": 13,
   "id": "915f71f2",
   "metadata": {},
   "outputs": [],
   "source": [
    "A = [3, 6, 7, 5]\n",
    "B = [4, 7, 2, 5]"
   ]
  },
  {
   "cell_type": "markdown",
   "id": "8feff4ab",
   "metadata": {},
   "source": [
    "#### 5) Determine si un número ingresado por el usuario se encuentra dentro de cierto límite también definido por el usuario "
   ]
  },
  {
   "cell_type": "code",
   "execution_count": 24,
   "id": "da2aa609",
   "metadata": {},
   "outputs": [
    {
     "name": "stdout",
     "output_type": "stream",
     "text": [
      "Ingrese el valor mínimo del rango: 3\n",
      "Ingrese el valor máximo del rango: 9\n",
      "[3, 4, 5, 6, 7, 8]\n",
      "Ingrese el número que desea revisar dentro del rango: 9\n",
      "El número ingresado no se encuentra dentro del rango\n"
     ]
    }
   ],
   "source": [
    "Min = int(input('Ingrese el valor mínimo del rango: '))\n",
    "Max = int(input('Ingrese el valor máximo del rango: '))\n",
    "Rango = range(Min, Max)\n",
    "print(list(Rango))\n",
    "\n",
    "A = int (input('Ingrese el número que desea revisar dentro del rango: '))\n",
    "\n",
    "if A > Min and A < Max:\n",
    "    print('El número ingresado se encuentra dentro del rango')\n",
    "else: \n",
    "    print('El número ingresado no se encuentra dentro del rango')\n",
    "    "
   ]
  },
  {
   "cell_type": "code",
   "execution_count": 25,
   "id": "6f12d57b",
   "metadata": {},
   "outputs": [
    {
     "name": "stdout",
     "output_type": "stream",
     "text": [
      "Ingrese el valor mínimo del rango: 1\n",
      "Ingrese el valor máximo del rango: 5\n",
      "[1, 2, 3, 4]\n",
      "Ingrese el número que desea revisar dentro del rango: 6\n",
      "El número ingresado no se encuentra dentro del rango\n"
     ]
    }
   ],
   "source": [
    "Min = int(input('Ingrese el valor mínimo del rango: '))\n",
    "Max = int(input('Ingrese el valor máximo del rango: '))\n",
    "Rango = range(Min, Max)\n",
    "print(list(Rango))\n",
    "\n",
    "A = int (input('Ingrese el número que desea revisar dentro del rango: '))\n",
    "\n",
    "if A in Rango:\n",
    "    print('El número ingresado se encuentra dentro del rango')\n",
    "else: \n",
    "    print('El número ingresado no se encuentra dentro del rango')"
   ]
  },
  {
   "cell_type": "code",
   "execution_count": null,
   "id": "4751a964",
   "metadata": {},
   "outputs": [],
   "source": []
  }
 ],
 "metadata": {
  "kernelspec": {
   "display_name": "Python 3 (ipykernel)",
   "language": "python",
   "name": "python3"
  },
  "language_info": {
   "codemirror_mode": {
    "name": "ipython",
    "version": 3
   },
   "file_extension": ".py",
   "mimetype": "text/x-python",
   "name": "python",
   "nbconvert_exporter": "python",
   "pygments_lexer": "ipython3",
   "version": "3.9.7"
  }
 },
 "nbformat": 4,
 "nbformat_minor": 5
}
