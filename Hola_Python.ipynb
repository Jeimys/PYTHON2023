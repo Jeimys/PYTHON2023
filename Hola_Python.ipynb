{
 "cells": [
  {
   "cell_type": "code",
   "execution_count": 5,
   "id": "0a8939ed",
   "metadata": {},
   "outputs": [],
   "source": [
    "# conceptos básicos de python # "
   ]
  },
  {
   "cell_type": "code",
   "execution_count": 7,
   "id": "4e520d49",
   "metadata": {},
   "outputs": [
    {
     "name": "stdout",
     "output_type": "stream",
     "text": [
      "My name is Jeimys\n",
      "I am 20 years old.\n"
     ]
    }
   ],
   "source": [
    "name = \"Jeimys\"\n",
    "print(\"My name is \" + name)\n",
    "age = 20\n",
    "print(\"I am \" + str(age) + \" years old.\")"
   ]
  },
  {
   "cell_type": "code",
   "execution_count": 9,
   "id": "f79e255c",
   "metadata": {},
   "outputs": [
    {
     "name": "stdout",
     "output_type": "stream",
     "text": [
      "La estatura promedio es: 168.33333333333334\n"
     ]
    }
   ],
   "source": [
    "david_height = 170\n",
    "santana_height = 169\n",
    "maylin_height = 166\n",
    "avg__height = (david_height + santana_height + maylin_height)/3\n",
    "print(\"La estatura promedio es: \" + str(avg__height))"
   ]
  },
  {
   "cell_type": "code",
   "execution_count": 12,
   "id": "401401f8",
   "metadata": {},
   "outputs": [
    {
     "name": "stdout",
     "output_type": "stream",
     "text": [
      "169\n",
      "170\n",
      "166\n",
      "505\n",
      "168.33333333333334\n"
     ]
    }
   ],
   "source": [
    "Estatura_total = 0\n",
    "Estatura_total += santana_height\n",
    "Estatura_total += david_height\n",
    "Estatura_total += maylin_height\n",
    "print(santana_height)\n",
    "print(david_height)\n",
    "print(maylin_height)\n",
    "print(Estatura_total)\n",
    "Estatura_total = Estatura_total/3\n",
    "print(Estatura_total)"
   ]
  },
  {
   "cell_type": "markdown",
   "id": "5a177421",
   "metadata": {},
   "source": [
    "# Flux Control"
   ]
  },
  {
   "cell_type": "code",
   "execution_count": 15,
   "id": "d0b9ed5a",
   "metadata": {},
   "outputs": [
    {
     "name": "stdout",
     "output_type": "stream",
     "text": [
      "A\n"
     ]
    }
   ],
   "source": [
    "points = 95\n",
    "if points >= 90 and points < 100:\n",
    "    print(\"A\")\n",
    "elif points >= 75 and points < 90:\n",
    "    print(\"B\")\n",
    "elif points >= 60 and points < 75:\n",
    "    print(\"C\")\n",
    "elif points >= 0 and points < 60:\n",
    "    print(\"D\")\n",
    "    "
   ]
  },
  {
   "cell_type": "code",
   "execution_count": 17,
   "id": "f120c425",
   "metadata": {},
   "outputs": [
    {
     "name": "stdout",
     "output_type": "stream",
     "text": [
      "Cuánto tiempo demoró?: 2\n",
      "Usted recorrió: 120.0 km\n"
     ]
    }
   ],
   "source": [
    "speed = 60 # km/h\n",
    "time = input(\"Cuánto tiempo demoró?: \")\n",
    "print(\"Usted recorrió: \" + str(speed*float(time)) + \" km\")"
   ]
  },
  {
   "cell_type": "code",
   "execution_count": 18,
   "id": "ba5abbd3",
   "metadata": {},
   "outputs": [
    {
     "name": "stdout",
     "output_type": "stream",
     "text": [
      "[170, 163, 168, 165, 166, 160]\n"
     ]
    }
   ],
   "source": [
    "alturas = []\n",
    "altura_hombres = [170, 163, 168, 165]\n",
    "altura_mujeres = [166, 160]\n",
    "alturas = altura_hombres + altura_mujeres\n",
    "print(alturas)"
   ]
  },
  {
   "cell_type": "code",
   "execution_count": 21,
   "id": "7c137f72",
   "metadata": {},
   "outputs": [
    {
     "name": "stdout",
     "output_type": "stream",
     "text": [
      "[170, 163, 168, 165, 166, 160, 168, 168]\n",
      "[168, 168, 160, 166, 165, 168, 163, 170]\n"
     ]
    }
   ],
   "source": [
    "alturas.append(168)\n",
    "print(alturas)\n",
    "print(alturas[::-1])"
   ]
  },
  {
   "cell_type": "code",
   "execution_count": 22,
   "id": "f64ccad6",
   "metadata": {},
   "outputs": [
    {
     "name": "stdout",
     "output_type": "stream",
     "text": [
      "168\n"
     ]
    }
   ],
   "source": [
    "ultima_altura = alturas[-1]\n",
    "print(ultima_altura)"
   ]
  },
  {
   "cell_type": "code",
   "execution_count": 23,
   "id": "8bc12b0e",
   "metadata": {},
   "outputs": [
    {
     "name": "stdout",
     "output_type": "stream",
     "text": [
      "8\n"
     ]
    }
   ],
   "source": [
    "n_alturas = len(alturas)\n",
    "print(n_alturas)"
   ]
  },
  {
   "cell_type": "code",
   "execution_count": 24,
   "id": "ef1fab75",
   "metadata": {},
   "outputs": [
    {
     "name": "stdout",
     "output_type": "stream",
     "text": [
      "[0, 1, 2, 3, 4, 5, 6, 7]\n"
     ]
    }
   ],
   "source": [
    "range_a = range(n_alturas)\n",
    "print(list(range_a))"
   ]
  },
  {
   "cell_type": "code",
   "execution_count": 25,
   "id": "88843e10",
   "metadata": {},
   "outputs": [
    {
     "name": "stdout",
     "output_type": "stream",
     "text": [
      "[2, 3, 4, 5, 6, 7, 8, 9, 10, 11, 12, 13, 14, 15]\n"
     ]
    }
   ],
   "source": [
    "range_b = range(2, 16)\n",
    "print(list(range_b))"
   ]
  },
  {
   "cell_type": "code",
   "execution_count": 26,
   "id": "d21465e3",
   "metadata": {},
   "outputs": [
    {
     "name": "stdout",
     "output_type": "stream",
     "text": [
      "[5, 1, -3, -7]\n"
     ]
    }
   ],
   "source": [
    "range_c = range(5, -10, -4)\n",
    "print(list(range_c))"
   ]
  },
  {
   "cell_type": "code",
   "execution_count": 27,
   "id": "c87088db",
   "metadata": {},
   "outputs": [
    {
     "name": "stdout",
     "output_type": "stream",
     "text": [
      "[('salchipapa', 20000), ('pizza', 7000), ('hamburguesa', 20000), ('hot dog', 2500)]\n"
     ]
    }
   ],
   "source": [
    "fast_foods = [\"salchipapa\", \"pizza\", \"hamburguesa\", \"hot dog\"]\n",
    "prices = [20000, 7000, 20000, 2500]\n",
    "food_prices = list(zip(fast_foods, prices))\n",
    "print(food_prices)"
   ]
  },
  {
   "cell_type": "code",
   "execution_count": 32,
   "id": "97ca551f",
   "metadata": {},
   "outputs": [
    {
     "name": "stdout",
     "output_type": "stream",
     "text": [
      "20000\n"
     ]
    }
   ],
   "source": [
    "print(food_prices[0][1])"
   ]
  },
  {
   "cell_type": "code",
   "execution_count": 34,
   "id": "93ccb1c6",
   "metadata": {},
   "outputs": [
    {
     "name": "stdout",
     "output_type": "stream",
     "text": [
      "Gara\n",
      "Santana\n",
      "Joshua\n",
      "Zabala\n"
     ]
    }
   ],
   "source": [
    "names = ['Gara', 'Santana', 'Joshua', 'Zabala']\n",
    "for name in names:\n",
    "    print(name)"
   ]
  },
  {
   "cell_type": "code",
   "execution_count": 35,
   "id": "a6fa8377",
   "metadata": {},
   "outputs": [
    {
     "name": "stdout",
     "output_type": "stream",
     "text": [
      "Gara\n",
      "Santana\n",
      "Joshua\n",
      "Zabala\n"
     ]
    }
   ],
   "source": [
    "for i in range(len(names)):\n",
    "    print(names[i])"
   ]
  },
  {
   "cell_type": "code",
   "execution_count": 37,
   "id": "b07fcf18",
   "metadata": {},
   "outputs": [
    {
     "name": "stdout",
     "output_type": "stream",
     "text": [
      "5\n",
      "6\n",
      "7\n",
      "8\n",
      "9\n",
      "10\n",
      "11\n",
      "12\n",
      "13\n",
      "14\n"
     ]
    }
   ],
   "source": [
    "counter = 5\n",
    "while counter < 15:\n",
    "    print(counter)\n",
    "    counter += 1"
   ]
  },
  {
   "cell_type": "code",
   "execution_count": null,
   "id": "02e5ddac",
   "metadata": {},
   "outputs": [],
   "source": [
    "m = 3\n",
    "b = -5\n",
    "x = [-1, 3, 2, -4, 10, 15, -8, 0]\n",
    "# y = mx + b \n",
    "y = [m*xi + b for xi in x]\n",
    "print(y)"
   ]
  },
  {
   "cell_type": "markdown",
   "id": "bc2fcf00",
   "metadata": {},
   "source": [
    "# Ejercicios"
   ]
  },
  {
   "cell_type": "code",
   "execution_count": 40,
   "id": "59331ae5",
   "metadata": {},
   "outputs": [
    {
     "name": "stdout",
     "output_type": "stream",
     "text": [
      "50\n",
      "69\n",
      "El número mayor está en la lista b\n"
     ]
    }
   ],
   "source": [
    "a = [2, 5, 7, 9, 0, 50]\n",
    "b = [5, 69, 40, 5, 68]\n",
    "\n",
    "max_a = max(a)\n",
    "max_b = max(b)\n",
    "\n",
    "print(max_a)\n",
    "print(max_b)\n",
    "\n",
    "if max_a > max_b:\n",
    "    print('El número mayor está en la lista a')\n",
    "else:\n",
    "    print('El número mayor está en la lista b')\n",
    "    \n",
    "    \n",
    "    \n",
    "c = [2, 5, 7, 9, 0, 50]\n",
    "d = [5, 69, 40, 5, 68]\n",
    "\n",
    "max_c = 0\n",
    "max_d = 0\n",
    "\n",
    "for C in c:\n",
    "    if C > max_c:\n",
    "\n",
    "if max_a > max_b:\n",
    "    print('El número mayor está en la lista a')\n",
    "else:\n",
    "    print('El número mayor está en la lista b')"
   ]
  },
  {
   "cell_type": "code",
   "execution_count": null,
   "id": "11cb63f0",
   "metadata": {},
   "outputs": [],
   "source": [
    "n_a = int(input(\"cuántos datos hay en la lista A?: \\n\"))\n",
    "A = []\n",
    "for i in range(n_a):\n",
    "    A.append(int(input(\"Ingrese el valor \" + str(i+1) + \" de la lista: \")))\n",
    "print(\"Lista A: \" + str(A))\n",
    "\n",
    "\n",
    "n_b = int(input(\"cuántos datos hay en la lista B?: \\n\"))\n",
    "B = []\n",
    "for i in range(n_b):\n",
    "    B.append(int(input(\"Ingrese el valor \" + str(i+1) + \" de la lista: \")))\n",
    "print(\"Lista B: \" + str(B))\n",
    "\n",
    "\n"
   ]
  },
  {
   "cell_type": "code",
   "execution_count": null,
   "id": "af939555",
   "metadata": {},
   "outputs": [],
   "source": []
  }
 ],
 "metadata": {
  "kernelspec": {
   "display_name": "Python 3 (ipykernel)",
   "language": "python",
   "name": "python3"
  },
  "language_info": {
   "codemirror_mode": {
    "name": "ipython",
    "version": 3
   },
   "file_extension": ".py",
   "mimetype": "text/x-python",
   "name": "python",
   "nbconvert_exporter": "python",
   "pygments_lexer": "ipython3",
   "version": "3.9.7"
  }
 },
 "nbformat": 4,
 "nbformat_minor": 5
}
